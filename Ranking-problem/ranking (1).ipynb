{
 "cells": [
  {
   "cell_type": "markdown",
   "id": "d0067aa3",
   "metadata": {},
   "source": [
    "# Ranking Data \n",
    "### Understanding the co-relation between keyword rankings with description or any other attribute. Here’s the dataset. \n",
    "\n",
    "Suggested questions:\n",
    "Is there any co-relation between short description, long description and ranking? Does the placement of keyword (for example - using a keyword in the first 10 words - have any co-relation with the ranking)?\n",
    "Does APP ID (Also known as package name) play any role in ranking?  \n",
    "Any other pattern or good questions that you can think of and answer?\n"
   ]
  },
  {
   "cell_type": "code",
   "execution_count": 1,
   "id": "03b75bb0",
   "metadata": {},
   "outputs": [],
   "source": [
    "import pandas as pd\n",
    "\n",
    "pd.set_option('display.max_columns', 500)\n",
    "pd.set_option('display.max_colwidth', 200)"
   ]
  },
  {
   "cell_type": "code",
   "execution_count": 14,
   "id": "a25a9e03",
   "metadata": {},
   "outputs": [
    {
     "data": {
      "text/plain": [
       "<Figure size 1080x576 with 0 Axes>"
      ]
     },
     "execution_count": 14,
     "metadata": {},
     "output_type": "execute_result"
    },
    {
     "data": {
      "text/plain": [
       "<Figure size 1080x576 with 0 Axes>"
      ]
     },
     "metadata": {},
     "output_type": "display_data"
    }
   ],
   "source": [
    "import seaborn as sns\n",
    "import matplotlib.pyplot as plt\n",
    "\n",
    "#figure(figsize=(20, 10), dpi=80)"
   ]
  },
  {
   "cell_type": "code",
   "execution_count": 3,
   "id": "88faad71",
   "metadata": {},
   "outputs": [
    {
     "name": "stderr",
     "output_type": "stream",
     "text": [
      "[nltk_data] Downloading package wordnet to\n",
      "[nltk_data]     C:\\Users\\bbiuser\\AppData\\Roaming\\nltk_data...\n",
      "[nltk_data]   Package wordnet is already up-to-date!\n",
      "[nltk_data] Downloading package words to\n",
      "[nltk_data]     C:\\Users\\bbiuser\\AppData\\Roaming\\nltk_data...\n",
      "[nltk_data]   Package words is already up-to-date!\n",
      "[nltk_data] Downloading package stopwords to\n",
      "[nltk_data]     C:\\Users\\bbiuser\\AppData\\Roaming\\nltk_data...\n",
      "[nltk_data]   Package stopwords is already up-to-date!\n"
     ]
    },
    {
     "data": {
      "text/plain": [
       "True"
      ]
     },
     "execution_count": 3,
     "metadata": {},
     "output_type": "execute_result"
    }
   ],
   "source": [
    "import re\n",
    "import numpy as np\n",
    "import nltk\n",
    "\n",
    "nltk.download('wordnet')\n",
    "nltk.download('words')\n",
    "nltk.download('stopwords')"
   ]
  },
  {
   "cell_type": "markdown",
   "id": "b2462d16",
   "metadata": {},
   "source": [
    "### Cleaning\n",
    "\n",
    "1) There is some degree of cleaning required.<br>\n",
    "2) text consists of emojis, which is removed.<br>\n",
    "3) lowercased.<br>\n",
    "4) removed special characters<br>\n",
    "5) remove extra spaces<br>"
   ]
  },
  {
   "cell_type": "code",
   "execution_count": 4,
   "id": "308b3f28",
   "metadata": {},
   "outputs": [],
   "source": [
    "def clean(text): \n",
    "    # remove non english characters and emojis and lower case\n",
    "    clean_text = text.encode('ascii',errors='ignore').decode('ascii',errors='ignore').lower()\n",
    "    # remove special characters\n",
    "    clean_text = re.sub(\"[^a-zA-Z0-9]+\", \" \",clean_text)\n",
    "    # remove extra spaces\n",
    "    clean_text = re.sub(\"\\\\s+\", \" \",clean_text)\n",
    "    # lets strip the text\n",
    "    clean_text=clean_text.strip()\n",
    "    return clean_text"
   ]
  },
  {
   "cell_type": "code",
   "execution_count": 5,
   "id": "7dacbae5",
   "metadata": {},
   "outputs": [],
   "source": [
    "data=pd.read_csv('browser_rankings_data.csv',skiprows=1,dtype={'Rank':'Int64'})"
   ]
  },
  {
   "cell_type": "code",
   "execution_count": 6,
   "id": "14294777",
   "metadata": {},
   "outputs": [
    {
     "data": {
      "text/html": [
       "<div>\n",
       "<style scoped>\n",
       "    .dataframe tbody tr th:only-of-type {\n",
       "        vertical-align: middle;\n",
       "    }\n",
       "\n",
       "    .dataframe tbody tr th {\n",
       "        vertical-align: top;\n",
       "    }\n",
       "\n",
       "    .dataframe thead th {\n",
       "        text-align: right;\n",
       "    }\n",
       "</style>\n",
       "<table border=\"1\" class=\"dataframe\">\n",
       "  <thead>\n",
       "    <tr style=\"text-align: right;\">\n",
       "      <th></th>\n",
       "      <th>ID</th>\n",
       "      <th>Keyword</th>\n",
       "      <th>Rank</th>\n",
       "      <th>Country</th>\n",
       "      <th>Language</th>\n",
       "      <th>Date</th>\n",
       "      <th>App ID</th>\n",
       "      <th>Date of Last Description Change</th>\n",
       "      <th>Short Description</th>\n",
       "      <th>Long Description</th>\n",
       "    </tr>\n",
       "  </thead>\n",
       "  <tbody>\n",
       "    <tr>\n",
       "      <th>0</th>\n",
       "      <td>1</td>\n",
       "      <td>browser</td>\n",
       "      <td>2</td>\n",
       "      <td>in</td>\n",
       "      <td>en</td>\n",
       "      <td>2020-12-16</td>\n",
       "      <td>net.fast.web.browser</td>\n",
       "      <td>2020-12-18</td>\n",
       "      <td>The small, fastest, secure Web Browser, best mobile browser, fast search Google.</td>\n",
       "      <td>One of the smallest, fastest, secure Web Browser; \\r\\nIt is specifically designed for mobile phones and tablet, brings you an amazing Premium web experience.\\r\\n\\r\\nIt is based off the Android Web...</td>\n",
       "    </tr>\n",
       "    <tr>\n",
       "      <th>1</th>\n",
       "      <td>2</td>\n",
       "      <td>browser</td>\n",
       "      <td>3</td>\n",
       "      <td>in</td>\n",
       "      <td>en</td>\n",
       "      <td>2020-12-16</td>\n",
       "      <td>com.android.chrome</td>\n",
       "      <td>2020-12-18</td>\n",
       "      <td>Fast, simple, and secure. Google Chrome browser for Android phones and tablets.</td>\n",
       "      <td>Google Chrome is a fast, easy to use, and secure web browser. Designed for Android, Chrome brings you personalized news articles, quick links to your favorite sites, downloads, and Google Search a...</td>\n",
       "    </tr>\n",
       "    <tr>\n",
       "      <th>2</th>\n",
       "      <td>3</td>\n",
       "      <td>browser</td>\n",
       "      <td>4</td>\n",
       "      <td>in</td>\n",
       "      <td>en</td>\n",
       "      <td>2020-12-16</td>\n",
       "      <td>com.opera.browser</td>\n",
       "      <td>2021-02-27</td>\n",
       "      <td>Fast, safe web browser: free VPN, Ad blocker, QR-code reader &amp;amp; personalized news</td>\n",
       "      <td>Fast, safe and private, introducing the latest version of the Opera web browser made to make your life easier online. Featuring a built-in Ad Blocker and Free VPN with a clean and user-friendly de...</td>\n",
       "    </tr>\n",
       "    <tr>\n",
       "      <th>3</th>\n",
       "      <td>3</td>\n",
       "      <td>browser</td>\n",
       "      <td>4</td>\n",
       "      <td>in</td>\n",
       "      <td>en</td>\n",
       "      <td>2020-12-16</td>\n",
       "      <td>com.opera.browser</td>\n",
       "      <td>2020-12-18</td>\n",
       "      <td>Fast, safe web browser: free VPN, Ad blocker, QR-code reader &amp;amp; personalized news</td>\n",
       "      <td>Opera is a fast, safe web browser for your Android device, featuring a rebooted news feed, built-in Ad blocker, free VPN and a QR &amp; Barcode scanner. \\r\\n\\r\\n\\r\\n★ Top features ★ \\r\\n\\r\\n● Free, un...</td>\n",
       "    </tr>\n",
       "    <tr>\n",
       "      <th>4</th>\n",
       "      <td>4</td>\n",
       "      <td>browser</td>\n",
       "      <td>1</td>\n",
       "      <td>in</td>\n",
       "      <td>en</td>\n",
       "      <td>2020-12-16</td>\n",
       "      <td>com.cloudmosa.puffinTV</td>\n",
       "      <td>2021-02-07</td>\n",
       "      <td>Puffin TV Browser - One App to Watch All Videos on the Web</td>\n",
       "      <td>Puffin TV Browser is a special edition of Puffin Web Browser optimized for the Android TV. For light users, it is absolutely free. For heavy users, it requires subscription through In-App-Purchase...</td>\n",
       "    </tr>\n",
       "  </tbody>\n",
       "</table>\n",
       "</div>"
      ],
      "text/plain": [
       "   ID  Keyword  Rank Country Language        Date                  App ID  \\\n",
       "0   1  browser     2      in       en  2020-12-16    net.fast.web.browser   \n",
       "1   2  browser     3      in       en  2020-12-16      com.android.chrome   \n",
       "2   3  browser     4      in       en  2020-12-16       com.opera.browser   \n",
       "3   3  browser     4      in       en  2020-12-16       com.opera.browser   \n",
       "4   4  browser     1      in       en  2020-12-16  com.cloudmosa.puffinTV   \n",
       "\n",
       "  Date of Last Description Change  \\\n",
       "0                      2020-12-18   \n",
       "1                      2020-12-18   \n",
       "2                      2021-02-27   \n",
       "3                      2020-12-18   \n",
       "4                      2021-02-07   \n",
       "\n",
       "                                                                      Short Description  \\\n",
       "0      The small, fastest, secure Web Browser, best mobile browser, fast search Google.   \n",
       "1       Fast, simple, and secure. Google Chrome browser for Android phones and tablets.   \n",
       "2  Fast, safe web browser: free VPN, Ad blocker, QR-code reader &amp; personalized news   \n",
       "3  Fast, safe web browser: free VPN, Ad blocker, QR-code reader &amp; personalized news   \n",
       "4                            Puffin TV Browser - One App to Watch All Videos on the Web   \n",
       "\n",
       "                                                                                                                                                                                          Long Description  \n",
       "0  One of the smallest, fastest, secure Web Browser; \\r\\nIt is specifically designed for mobile phones and tablet, brings you an amazing Premium web experience.\\r\\n\\r\\nIt is based off the Android Web...  \n",
       "1  Google Chrome is a fast, easy to use, and secure web browser. Designed for Android, Chrome brings you personalized news articles, quick links to your favorite sites, downloads, and Google Search a...  \n",
       "2  Fast, safe and private, introducing the latest version of the Opera web browser made to make your life easier online. Featuring a built-in Ad Blocker and Free VPN with a clean and user-friendly de...  \n",
       "3  Opera is a fast, safe web browser for your Android device, featuring a rebooted news feed, built-in Ad blocker, free VPN and a QR & Barcode scanner. \\r\\n\\r\\n\\r\\n★ Top features ★ \\r\\n\\r\\n● Free, un...  \n",
       "4  Puffin TV Browser is a special edition of Puffin Web Browser optimized for the Android TV. For light users, it is absolutely free. For heavy users, it requires subscription through In-App-Purchase...  "
      ]
     },
     "execution_count": 6,
     "metadata": {},
     "output_type": "execute_result"
    }
   ],
   "source": [
    "data.head()"
   ]
  },
  {
   "cell_type": "markdown",
   "id": "5a745c61",
   "metadata": {},
   "source": [
    "#### There is only 16 rows of Rank column which are null . wont harm our analysis much. simple value replacement will be ok\n",
    "#### We will convert datetime values from object to datetime formal . specially for 'Date of Last Description Change'"
   ]
  },
  {
   "cell_type": "code",
   "execution_count": 7,
   "id": "01375cd3",
   "metadata": {},
   "outputs": [
    {
     "name": "stdout",
     "output_type": "stream",
     "text": [
      "Number of nulls in Rank is : 16\n"
     ]
    }
   ],
   "source": [
    "for column in data:\n",
    "    if any(data[column].isnull()):\n",
    "        print(f\"Number of nulls in {column} is : {data[column].isnull().sum()}\")"
   ]
  },
  {
   "cell_type": "code",
   "execution_count": 8,
   "id": "4c03d504",
   "metadata": {},
   "outputs": [],
   "source": [
    "data['Date of Last Description Change']=pd.to_datetime(data['Date of Last Description Change'])"
   ]
  },
  {
   "cell_type": "markdown",
   "id": "9b614b22",
   "metadata": {},
   "source": [
    "#### apply the clean function to 'Short Description' , 'Long Description'"
   ]
  },
  {
   "cell_type": "code",
   "execution_count": 9,
   "id": "71f27521",
   "metadata": {},
   "outputs": [],
   "source": [
    "#applying cleaning function\n",
    "data['Short Description']=data['Short Description'].apply(lambda x: clean(x))\n",
    "data['Long Description']=data['Long Description'].apply(lambda x: clean(x))"
   ]
  },
  {
   "cell_type": "code",
   "execution_count": 10,
   "id": "1c8e58b3",
   "metadata": {},
   "outputs": [],
   "source": [
    "data['Rank']=data['Rank'].replace(np.nan,0)"
   ]
  },
  {
   "cell_type": "code",
   "execution_count": 11,
   "id": "be447488",
   "metadata": {},
   "outputs": [
    {
     "data": {
      "text/html": [
       "<div>\n",
       "<style scoped>\n",
       "    .dataframe tbody tr th:only-of-type {\n",
       "        vertical-align: middle;\n",
       "    }\n",
       "\n",
       "    .dataframe tbody tr th {\n",
       "        vertical-align: top;\n",
       "    }\n",
       "\n",
       "    .dataframe thead th {\n",
       "        text-align: right;\n",
       "    }\n",
       "</style>\n",
       "<table border=\"1\" class=\"dataframe\">\n",
       "  <thead>\n",
       "    <tr style=\"text-align: right;\">\n",
       "      <th></th>\n",
       "      <th>ID</th>\n",
       "      <th>Keyword</th>\n",
       "      <th>Rank</th>\n",
       "      <th>Country</th>\n",
       "      <th>Language</th>\n",
       "      <th>Date</th>\n",
       "      <th>App ID</th>\n",
       "      <th>Date of Last Description Change</th>\n",
       "      <th>Short Description</th>\n",
       "      <th>Long Description</th>\n",
       "    </tr>\n",
       "  </thead>\n",
       "  <tbody>\n",
       "    <tr>\n",
       "      <th>0</th>\n",
       "      <td>1</td>\n",
       "      <td>browser</td>\n",
       "      <td>2</td>\n",
       "      <td>in</td>\n",
       "      <td>en</td>\n",
       "      <td>2020-12-16</td>\n",
       "      <td>net.fast.web.browser</td>\n",
       "      <td>2020-12-18</td>\n",
       "      <td>the small fastest secure web browser best mobile browser fast search google</td>\n",
       "      <td>one of the smallest fastest secure web browser it is specifically designed for mobile phones and tablet brings you an amazing premium web experience it is based off the android webkit engine key f...</td>\n",
       "    </tr>\n",
       "    <tr>\n",
       "      <th>1</th>\n",
       "      <td>2</td>\n",
       "      <td>browser</td>\n",
       "      <td>3</td>\n",
       "      <td>in</td>\n",
       "      <td>en</td>\n",
       "      <td>2020-12-16</td>\n",
       "      <td>com.android.chrome</td>\n",
       "      <td>2020-12-18</td>\n",
       "      <td>fast simple and secure google chrome browser for android phones and tablets</td>\n",
       "      <td>google chrome is a fast easy to use and secure web browser designed for android chrome brings you personalized news articles quick links to your favorite sites downloads and google search and goog...</td>\n",
       "    </tr>\n",
       "    <tr>\n",
       "      <th>2</th>\n",
       "      <td>3</td>\n",
       "      <td>browser</td>\n",
       "      <td>4</td>\n",
       "      <td>in</td>\n",
       "      <td>en</td>\n",
       "      <td>2020-12-16</td>\n",
       "      <td>com.opera.browser</td>\n",
       "      <td>2021-02-27</td>\n",
       "      <td>fast safe web browser free vpn ad blocker qr code reader amp personalized news</td>\n",
       "      <td>fast safe and private introducing the latest version of the opera web browser made to make your life easier online featuring a built in ad blocker and free vpn with a clean and user friendly desig...</td>\n",
       "    </tr>\n",
       "    <tr>\n",
       "      <th>3</th>\n",
       "      <td>3</td>\n",
       "      <td>browser</td>\n",
       "      <td>4</td>\n",
       "      <td>in</td>\n",
       "      <td>en</td>\n",
       "      <td>2020-12-16</td>\n",
       "      <td>com.opera.browser</td>\n",
       "      <td>2020-12-18</td>\n",
       "      <td>fast safe web browser free vpn ad blocker qr code reader amp personalized news</td>\n",
       "      <td>opera is a fast safe web browser for your android device featuring a rebooted news feed built in ad blocker free vpn and a qr barcode scanner top features free unlimited and built in vpn improve y...</td>\n",
       "    </tr>\n",
       "    <tr>\n",
       "      <th>4</th>\n",
       "      <td>4</td>\n",
       "      <td>browser</td>\n",
       "      <td>1</td>\n",
       "      <td>in</td>\n",
       "      <td>en</td>\n",
       "      <td>2020-12-16</td>\n",
       "      <td>com.cloudmosa.puffinTV</td>\n",
       "      <td>2021-02-07</td>\n",
       "      <td>puffin tv browser one app to watch all videos on the web</td>\n",
       "      <td>puffin tv browser is a special edition of puffin web browser optimized for the android tv for light users it is absolutely free for heavy users it requires subscription through in app purchase pc ...</td>\n",
       "    </tr>\n",
       "  </tbody>\n",
       "</table>\n",
       "</div>"
      ],
      "text/plain": [
       "   ID  Keyword  Rank Country Language        Date                  App ID  \\\n",
       "0   1  browser     2      in       en  2020-12-16    net.fast.web.browser   \n",
       "1   2  browser     3      in       en  2020-12-16      com.android.chrome   \n",
       "2   3  browser     4      in       en  2020-12-16       com.opera.browser   \n",
       "3   3  browser     4      in       en  2020-12-16       com.opera.browser   \n",
       "4   4  browser     1      in       en  2020-12-16  com.cloudmosa.puffinTV   \n",
       "\n",
       "  Date of Last Description Change  \\\n",
       "0                      2020-12-18   \n",
       "1                      2020-12-18   \n",
       "2                      2021-02-27   \n",
       "3                      2020-12-18   \n",
       "4                      2021-02-07   \n",
       "\n",
       "                                                                Short Description  \\\n",
       "0     the small fastest secure web browser best mobile browser fast search google   \n",
       "1     fast simple and secure google chrome browser for android phones and tablets   \n",
       "2  fast safe web browser free vpn ad blocker qr code reader amp personalized news   \n",
       "3  fast safe web browser free vpn ad blocker qr code reader amp personalized news   \n",
       "4                        puffin tv browser one app to watch all videos on the web   \n",
       "\n",
       "                                                                                                                                                                                          Long Description  \n",
       "0  one of the smallest fastest secure web browser it is specifically designed for mobile phones and tablet brings you an amazing premium web experience it is based off the android webkit engine key f...  \n",
       "1  google chrome is a fast easy to use and secure web browser designed for android chrome brings you personalized news articles quick links to your favorite sites downloads and google search and goog...  \n",
       "2  fast safe and private introducing the latest version of the opera web browser made to make your life easier online featuring a built in ad blocker and free vpn with a clean and user friendly desig...  \n",
       "3  opera is a fast safe web browser for your android device featuring a rebooted news feed built in ad blocker free vpn and a qr barcode scanner top features free unlimited and built in vpn improve y...  \n",
       "4  puffin tv browser is a special edition of puffin web browser optimized for the android tv for light users it is absolutely free for heavy users it requires subscription through in app purchase pc ...  "
      ]
     },
     "execution_count": 11,
     "metadata": {},
     "output_type": "execute_result"
    }
   ],
   "source": [
    "data.head()"
   ]
  },
  {
   "cell_type": "markdown",
   "id": "b1a17ed3",
   "metadata": {},
   "source": [
    "#### Let's look at the initial data exploration applied on various categorical variables to understand the bar chart distribution"
   ]
  },
  {
   "cell_type": "code",
   "execution_count": 87,
   "id": "b96c6ad5",
   "metadata": {},
   "outputs": [],
   "source": [
    "columns=['Keyword','Rank','Country','Language','App ID']"
   ]
  },
  {
   "cell_type": "code",
   "execution_count": 88,
   "id": "2710c182",
   "metadata": {},
   "outputs": [
    {
     "name": "stderr",
     "output_type": "stream",
     "text": [
      "C:\\ProgramData\\Anaconda3\\lib\\site-packages\\seaborn\\_decorators.py:36: FutureWarning: Pass the following variables as keyword args: x, y. From version 0.12, the only valid positional argument will be `data`, and passing other arguments without an explicit keyword will result in an error or misinterpretation.\n",
      "  warnings.warn(\n",
      "C:\\ProgramData\\Anaconda3\\lib\\site-packages\\seaborn\\_decorators.py:36: FutureWarning: Pass the following variables as keyword args: x, y. From version 0.12, the only valid positional argument will be `data`, and passing other arguments without an explicit keyword will result in an error or misinterpretation.\n",
      "  warnings.warn(\n",
      "C:\\ProgramData\\Anaconda3\\lib\\site-packages\\seaborn\\_decorators.py:36: FutureWarning: Pass the following variables as keyword args: x, y. From version 0.12, the only valid positional argument will be `data`, and passing other arguments without an explicit keyword will result in an error or misinterpretation.\n",
      "  warnings.warn(\n",
      "C:\\ProgramData\\Anaconda3\\lib\\site-packages\\seaborn\\_decorators.py:36: FutureWarning: Pass the following variables as keyword args: x, y. From version 0.12, the only valid positional argument will be `data`, and passing other arguments without an explicit keyword will result in an error or misinterpretation.\n",
      "  warnings.warn(\n",
      "C:\\ProgramData\\Anaconda3\\lib\\site-packages\\seaborn\\_decorators.py:36: FutureWarning: Pass the following variables as keyword args: x, y. From version 0.12, the only valid positional argument will be `data`, and passing other arguments without an explicit keyword will result in an error or misinterpretation.\n",
      "  warnings.warn(\n"
     ]
    },
    {
     "data": {
      "image/png": "[encoded data removed]",
      "text/plain": [
       "<Figure size 1080x576 with 1 Axes>"
      ]
     },
     "metadata": {
      "needs_background": "light"
     },
     "output_type": "display_data"
    },
    {
     "data": {
      "image/png": "[encoded data removed]",
      "text/plain": [
       "<Figure size 1080x576 with 1 Axes>"
      ]
     },
     "metadata": {
      "needs_background": "light"
     },
     "output_type": "display_data"
    },
    {
     "data": {
      "image/png": "[encoded data removed]",
      "text/plain": [
       "<Figure size 1080x576 with 1 Axes>"
      ]
     },
     "metadata": {
      "needs_background": "light"
     },
     "output_type": "display_data"
    },
    {
     "data": {
      "image/png": "[encoded data removed]",
      "text/plain": [
       "<Figure size 1080x576 with 1 Axes>"
      ]
     },
     "metadata": {
      "needs_background": "light"
     },
     "output_type": "display_data"
    },
    {
     "data": {
      "image/png": "[encoded data removed]",
      "text/plain": [
       "<Figure size 1080x576 with 1 Axes>"
      ]
     },
     "metadata": {
      "needs_background": "light"
     },
     "output_type": "display_data"
    }
   ],
   "source": [
    "for column in columns:\n",
    "    plt.figure(figsize = (15,8))\n",
    "    ax=sns.barplot(data[column].value_counts().index,data[column].value_counts()).set_title(column)\n",
    "    plt.xticks(rotation=45)"
   ]
  },
  {
   "cell_type": "markdown",
   "id": "e4c6580e",
   "metadata": {},
   "source": [
    "#### Understanding the values held under 'Rank'"
   ]
  },
  {
   "cell_type": "code",
   "execution_count": 35,
   "id": "2caa522e",
   "metadata": {},
   "outputs": [
    {
     "data": {
      "text/plain": [
       "1      562\n",
       "2      490\n",
       "3      214\n",
       "6      213\n",
       "4      170\n",
       "      ... \n",
       "113      1\n",
       "85       1\n",
       "62       1\n",
       "134      1\n",
       "64       1\n",
       "Name: Rank, Length: 120, dtype: Int64"
      ]
     },
     "execution_count": 35,
     "metadata": {},
     "output_type": "execute_result"
    }
   ],
   "source": [
    "data['Rank'].value_counts()"
   ]
  },
  {
   "cell_type": "code",
   "execution_count": 40,
   "id": "ec0b4cda",
   "metadata": {},
   "outputs": [],
   "source": [
    "x=list(data['Rank'].unique())"
   ]
  },
  {
   "cell_type": "code",
   "execution_count": 43,
   "id": "c0c1e3b9",
   "metadata": {},
   "outputs": [],
   "source": [
    "x.sort()"
   ]
  },
  {
   "cell_type": "markdown",
   "id": "c6d7c94b",
   "metadata": {},
   "source": [
    "Below is the list of unique 'Rank' values"
   ]
  },
  {
   "cell_type": "code",
   "execution_count": 44,
   "id": "23b3055d",
   "metadata": {},
   "outputs": [
    {
     "name": "stdout",
     "output_type": "stream",
     "text": [
      "[0, 1, 2, 3, 4, 5, 6, 7, 8, 9, 10, 11, 12, 13, 14, 15, 16, 17, 18, 19, 20, 21, 22, 23, 24, 25, 26, 27, 28, 29, 30, 31, 32, 33, 34, 35, 36, 37, 38, 39, 40, 41, 42, 43, 44, 45, 46, 47, 48, 50, 51, 52, 53, 54, 55, 56, 57, 58, 59, 60, 61, 62, 63, 64, 65, 66, 67, 68, 69, 70, 71, 72, 73, 74, 75, 76, 77, 78, 79, 80, 81, 82, 83, 84, 85, 86, 87, 88, 89, 90, 91, 92, 93, 94, 95, 96, 97, 98, 99, 100, 101, 102, 103, 104, 105, 106, 107, 108, 109, 110, 111, 112, 113, 114, 115, 116, 117, 118, 119, 134]\n"
     ]
    }
   ],
   "source": [
    "print(x)"
   ]
  },
  {
   "cell_type": "markdown",
   "id": "ff02fcde",
   "metadata": {},
   "source": [
    "Below is the histogram plot for Ranking data. Data is not normalised."
   ]
  },
  {
   "cell_type": "code",
   "execution_count": 18,
   "id": "a93d4d2f",
   "metadata": {},
   "outputs": [
    {
     "data": {
      "image/png": "[encoded data removed]",
      "text/plain": [
       "<Figure size 432x288 with 1 Axes>"
      ]
     },
     "metadata": {
      "needs_background": "light"
     },
     "output_type": "display_data"
    }
   ],
   "source": [
    "plt.hist(data['Rank'],bins=20,range=(0,200))\n",
    "plt.title('Rank')\n",
    "plt.show()"
   ]
  },
  {
   "cell_type": "markdown",
   "id": "c0d18ee7",
   "metadata": {},
   "source": [
    "#### Lets apply some stop words removal before we proceed to our text data analysis."
   ]
  },
  {
   "cell_type": "code",
   "execution_count": 22,
   "id": "e1cdb836",
   "metadata": {},
   "outputs": [],
   "source": [
    "lst_stopwords = nltk.corpus.stopwords.words(\"english\")"
   ]
  },
  {
   "cell_type": "code",
   "execution_count": 24,
   "id": "a5d9d415",
   "metadata": {},
   "outputs": [],
   "source": [
    "filtrd_stopwords=[re.sub(\"[^a-zA-Z0-9]+\", '',i).lower() for i in lst_stopwords]"
   ]
  },
  {
   "cell_type": "code",
   "execution_count": 25,
   "id": "356232a6",
   "metadata": {},
   "outputs": [],
   "source": [
    "def normalize(text):\n",
    "    #tokenize text\n",
    "    lst_text = text.split()\n",
    "    #remove stop words\n",
    "    lst_text = [word for word in lst_text if word not in filtrd_stopwords]\n",
    "\n",
    "    return \" \".join(lst_text).strip()"
   ]
  },
  {
   "cell_type": "code",
   "execution_count": 27,
   "id": "af859569",
   "metadata": {},
   "outputs": [],
   "source": [
    "data['Short Description']=data['Short Description'].apply(lambda x: normalize(x))\n",
    "data['Long Description']=data['Long Description'].apply(lambda x: normalize(x))"
   ]
  },
  {
   "cell_type": "code",
   "execution_count": 28,
   "id": "280f1f4f",
   "metadata": {},
   "outputs": [
    {
     "data": {
      "text/html": [
       "<div>\n",
       "<style scoped>\n",
       "    .dataframe tbody tr th:only-of-type {\n",
       "        vertical-align: middle;\n",
       "    }\n",
       "\n",
       "    .dataframe tbody tr th {\n",
       "        vertical-align: top;\n",
       "    }\n",
       "\n",
       "    .dataframe thead th {\n",
       "        text-align: right;\n",
       "    }\n",
       "</style>\n",
       "<table border=\"1\" class=\"dataframe\">\n",
       "  <thead>\n",
       "    <tr style=\"text-align: right;\">\n",
       "      <th></th>\n",
       "      <th>ID</th>\n",
       "      <th>Keyword</th>\n",
       "      <th>Rank</th>\n",
       "      <th>Country</th>\n",
       "      <th>Language</th>\n",
       "      <th>Date</th>\n",
       "      <th>App ID</th>\n",
       "      <th>Date of Last Description Change</th>\n",
       "      <th>Short Description</th>\n",
       "      <th>Long Description</th>\n",
       "    </tr>\n",
       "  </thead>\n",
       "  <tbody>\n",
       "    <tr>\n",
       "      <th>0</th>\n",
       "      <td>1</td>\n",
       "      <td>browser</td>\n",
       "      <td>2</td>\n",
       "      <td>in</td>\n",
       "      <td>en</td>\n",
       "      <td>2020-12-16</td>\n",
       "      <td>net.fast.web.browser</td>\n",
       "      <td>2020-12-18</td>\n",
       "      <td>small fastest secure web browser best mobile browser fast search google</td>\n",
       "      <td>one smallest fastest secure web browser specifically designed mobile phones tablet brings amazing premium web experience based android webkit engine key features tabbed internet browsing incognito...</td>\n",
       "    </tr>\n",
       "    <tr>\n",
       "      <th>1</th>\n",
       "      <td>2</td>\n",
       "      <td>browser</td>\n",
       "      <td>3</td>\n",
       "      <td>in</td>\n",
       "      <td>en</td>\n",
       "      <td>2020-12-16</td>\n",
       "      <td>com.android.chrome</td>\n",
       "      <td>2020-12-18</td>\n",
       "      <td>fast simple secure google chrome browser android phones tablets</td>\n",
       "      <td>google chrome fast easy use secure web browser designed android chrome brings personalized news articles quick links favorite sites downloads google search google translate built download enjoy ch...</td>\n",
       "    </tr>\n",
       "    <tr>\n",
       "      <th>2</th>\n",
       "      <td>3</td>\n",
       "      <td>browser</td>\n",
       "      <td>4</td>\n",
       "      <td>in</td>\n",
       "      <td>en</td>\n",
       "      <td>2020-12-16</td>\n",
       "      <td>com.opera.browser</td>\n",
       "      <td>2021-02-27</td>\n",
       "      <td>fast safe web browser free vpn ad blocker qr code reader amp personalized news</td>\n",
       "      <td>fast safe private introducing latest version opera web browser made make life easier online featuring built ad blocker free vpn clean user friendly design letting get done online less time downloa...</td>\n",
       "    </tr>\n",
       "    <tr>\n",
       "      <th>3</th>\n",
       "      <td>3</td>\n",
       "      <td>browser</td>\n",
       "      <td>4</td>\n",
       "      <td>in</td>\n",
       "      <td>en</td>\n",
       "      <td>2020-12-16</td>\n",
       "      <td>com.opera.browser</td>\n",
       "      <td>2020-12-18</td>\n",
       "      <td>fast safe web browser free vpn ad blocker qr code reader amp personalized news</td>\n",
       "      <td>opera fast safe web browser android device featuring rebooted news feed built ad blocker free vpn qr barcode scanner top features free unlimited built vpn improve privacy security built free vpn t...</td>\n",
       "    </tr>\n",
       "    <tr>\n",
       "      <th>4</th>\n",
       "      <td>4</td>\n",
       "      <td>browser</td>\n",
       "      <td>1</td>\n",
       "      <td>in</td>\n",
       "      <td>en</td>\n",
       "      <td>2020-12-16</td>\n",
       "      <td>com.cloudmosa.puffinTV</td>\n",
       "      <td>2021-02-07</td>\n",
       "      <td>puffin tv browser one app watch videos web</td>\n",
       "      <td>puffin tv browser special edition puffin web browser optimized android tv light users absolutely free heavy users requires subscription app purchase pc users watch videos web browser pc need insta...</td>\n",
       "    </tr>\n",
       "  </tbody>\n",
       "</table>\n",
       "</div>"
      ],
      "text/plain": [
       "   ID  Keyword  Rank Country Language        Date                  App ID  \\\n",
       "0   1  browser     2      in       en  2020-12-16    net.fast.web.browser   \n",
       "1   2  browser     3      in       en  2020-12-16      com.android.chrome   \n",
       "2   3  browser     4      in       en  2020-12-16       com.opera.browser   \n",
       "3   3  browser     4      in       en  2020-12-16       com.opera.browser   \n",
       "4   4  browser     1      in       en  2020-12-16  com.cloudmosa.puffinTV   \n",
       "\n",
       "  Date of Last Description Change  \\\n",
       "0                      2020-12-18   \n",
       "1                      2020-12-18   \n",
       "2                      2021-02-27   \n",
       "3                      2020-12-18   \n",
       "4                      2021-02-07   \n",
       "\n",
       "                                                                Short Description  \\\n",
       "0         small fastest secure web browser best mobile browser fast search google   \n",
       "1                 fast simple secure google chrome browser android phones tablets   \n",
       "2  fast safe web browser free vpn ad blocker qr code reader amp personalized news   \n",
       "3  fast safe web browser free vpn ad blocker qr code reader amp personalized news   \n",
       "4                                      puffin tv browser one app watch videos web   \n",
       "\n",
       "                                                                                                                                                                                          Long Description  \n",
       "0  one smallest fastest secure web browser specifically designed mobile phones tablet brings amazing premium web experience based android webkit engine key features tabbed internet browsing incognito...  \n",
       "1  google chrome fast easy use secure web browser designed android chrome brings personalized news articles quick links favorite sites downloads google search google translate built download enjoy ch...  \n",
       "2  fast safe private introducing latest version opera web browser made make life easier online featuring built ad blocker free vpn clean user friendly design letting get done online less time downloa...  \n",
       "3  opera fast safe web browser android device featuring rebooted news feed built ad blocker free vpn qr barcode scanner top features free unlimited built vpn improve privacy security built free vpn t...  \n",
       "4  puffin tv browser special edition puffin web browser optimized android tv light users absolutely free heavy users requires subscription app purchase pc users watch videos web browser pc need insta...  "
      ]
     },
     "execution_count": 28,
     "metadata": {},
     "output_type": "execute_result"
    }
   ],
   "source": [
    "data.head()"
   ]
  },
  {
   "cell_type": "code",
   "execution_count": null,
   "id": "fa780367",
   "metadata": {},
   "outputs": [],
   "source": []
  },
  {
   "cell_type": "code",
   "execution_count": 29,
   "id": "1b7f3d1e",
   "metadata": {},
   "outputs": [
    {
     "data": {
      "text/html": [
       "<div>\n",
       "<style scoped>\n",
       "    .dataframe tbody tr th:only-of-type {\n",
       "        vertical-align: middle;\n",
       "    }\n",
       "\n",
       "    .dataframe tbody tr th {\n",
       "        vertical-align: top;\n",
       "    }\n",
       "\n",
       "    .dataframe thead th {\n",
       "        text-align: right;\n",
       "    }\n",
       "</style>\n",
       "<table border=\"1\" class=\"dataframe\">\n",
       "  <thead>\n",
       "    <tr style=\"text-align: right;\">\n",
       "      <th></th>\n",
       "      <th>ID</th>\n",
       "      <th>Keyword</th>\n",
       "      <th>Rank</th>\n",
       "      <th>Country</th>\n",
       "      <th>Language</th>\n",
       "      <th>Date</th>\n",
       "      <th>App ID</th>\n",
       "      <th>Date of Last Description Change</th>\n",
       "      <th>Short Description</th>\n",
       "      <th>Long Description</th>\n",
       "    </tr>\n",
       "  </thead>\n",
       "  <tbody>\n",
       "    <tr>\n",
       "      <th>93</th>\n",
       "      <td>244</td>\n",
       "      <td>privacy browser</td>\n",
       "      <td>100</td>\n",
       "      <td>in</td>\n",
       "      <td>en</td>\n",
       "      <td>2020-12-19</td>\n",
       "      <td>com.vivaldi.browser</td>\n",
       "      <td>2020-12-18</td>\n",
       "      <td>fast amp private web browser ad blocker sync dark amp private mode</td>\n",
       "      <td>vivaldi new private web browser integrated ad blocker tracking protection useful built features browse unique desktop style tabs end end encrypted sync dark private mode download free browse fast ...</td>\n",
       "    </tr>\n",
       "    <tr>\n",
       "      <th>137</th>\n",
       "      <td>423</td>\n",
       "      <td>privacy browsers for android</td>\n",
       "      <td>134</td>\n",
       "      <td>in</td>\n",
       "      <td>en</td>\n",
       "      <td>2020-12-21</td>\n",
       "      <td>com.vivaldi.browser</td>\n",
       "      <td>2020-12-18</td>\n",
       "      <td>fast amp private web browser ad blocker sync dark amp private mode</td>\n",
       "      <td>vivaldi new private web browser integrated ad blocker tracking protection useful built features browse unique desktop style tabs end end encrypted sync dark private mode download free browse fast ...</td>\n",
       "    </tr>\n",
       "    <tr>\n",
       "      <th>335</th>\n",
       "      <td>10022</td>\n",
       "      <td>fast browser</td>\n",
       "      <td>109</td>\n",
       "      <td>in</td>\n",
       "      <td>en</td>\n",
       "      <td>2020-12-26</td>\n",
       "      <td>com.vivaldi.browser</td>\n",
       "      <td>2020-12-18</td>\n",
       "      <td>fast amp private web browser ad blocker sync dark amp private mode</td>\n",
       "      <td>vivaldi new private web browser integrated ad blocker tracking protection useful built features browse unique desktop style tabs end end encrypted sync dark private mode download free browse fast ...</td>\n",
       "    </tr>\n",
       "    <tr>\n",
       "      <th>395</th>\n",
       "      <td>11178</td>\n",
       "      <td>fast browser</td>\n",
       "      <td>109</td>\n",
       "      <td>in</td>\n",
       "      <td>en</td>\n",
       "      <td>2020-12-27</td>\n",
       "      <td>com.vivaldi.browser</td>\n",
       "      <td>2020-12-18</td>\n",
       "      <td>fast amp private web browser ad blocker sync dark amp private mode</td>\n",
       "      <td>vivaldi new private web browser integrated ad blocker tracking protection useful built features browse unique desktop style tabs end end encrypted sync dark private mode download free browse fast ...</td>\n",
       "    </tr>\n",
       "    <tr>\n",
       "      <th>440</th>\n",
       "      <td>12321</td>\n",
       "      <td>ad free browser</td>\n",
       "      <td>111</td>\n",
       "      <td>in</td>\n",
       "      <td>en</td>\n",
       "      <td>2020-12-28</td>\n",
       "      <td>com.transsion.phoenix</td>\n",
       "      <td>2020-12-18</td>\n",
       "      <td>funny video football amp celebrity news fast amp data saving browser</td>\n",
       "      <td>phoenix browser fast safe web browser android device featuring local news feed free movie resources main features phoenix browser loads webpages 2x faster saves 90 data enables smooth browsing slo...</td>\n",
       "    </tr>\n",
       "    <tr>\n",
       "      <th>...</th>\n",
       "      <td>...</td>\n",
       "      <td>...</td>\n",
       "      <td>...</td>\n",
       "      <td>...</td>\n",
       "      <td>...</td>\n",
       "      <td>...</td>\n",
       "      <td>...</td>\n",
       "      <td>...</td>\n",
       "      <td>...</td>\n",
       "      <td>...</td>\n",
       "    </tr>\n",
       "    <tr>\n",
       "      <th>2822</th>\n",
       "      <td>119044</td>\n",
       "      <td>privacy browser</td>\n",
       "      <td>116</td>\n",
       "      <td>in</td>\n",
       "      <td>en</td>\n",
       "      <td>2021-03-01</td>\n",
       "      <td>com.vivaldi.browser</td>\n",
       "      <td>2020-12-18</td>\n",
       "      <td>fast amp private web browser ad blocker sync dark amp private mode</td>\n",
       "      <td>vivaldi new private web browser integrated ad blocker tracking protection useful built features browse unique desktop style tabs end end encrypted sync dark private mode download free browse fast ...</td>\n",
       "    </tr>\n",
       "    <tr>\n",
       "      <th>2837</th>\n",
       "      <td>119056</td>\n",
       "      <td>fast browser</td>\n",
       "      <td>106</td>\n",
       "      <td>in</td>\n",
       "      <td>en</td>\n",
       "      <td>2021-03-01</td>\n",
       "      <td>com.vivaldi.browser</td>\n",
       "      <td>2020-12-18</td>\n",
       "      <td>fast amp private web browser ad blocker sync dark amp private mode</td>\n",
       "      <td>vivaldi new private web browser integrated ad blocker tracking protection useful built features browse unique desktop style tabs end end encrypted sync dark private mode download free browse fast ...</td>\n",
       "    </tr>\n",
       "    <tr>\n",
       "      <th>2865</th>\n",
       "      <td>120973</td>\n",
       "      <td>privacy browser</td>\n",
       "      <td>115</td>\n",
       "      <td>in</td>\n",
       "      <td>en</td>\n",
       "      <td>2021-03-02</td>\n",
       "      <td>com.vivaldi.browser</td>\n",
       "      <td>2020-12-18</td>\n",
       "      <td>fast amp private web browser ad blocker sync dark amp private mode</td>\n",
       "      <td>vivaldi new private web browser integrated ad blocker tracking protection useful built features browse unique desktop style tabs end end encrypted sync dark private mode download free browse fast ...</td>\n",
       "    </tr>\n",
       "    <tr>\n",
       "      <th>2880</th>\n",
       "      <td>120985</td>\n",
       "      <td>fast browser</td>\n",
       "      <td>110</td>\n",
       "      <td>in</td>\n",
       "      <td>en</td>\n",
       "      <td>2021-03-02</td>\n",
       "      <td>com.vivaldi.browser</td>\n",
       "      <td>2020-12-18</td>\n",
       "      <td>fast amp private web browser ad blocker sync dark amp private mode</td>\n",
       "      <td>vivaldi new private web browser integrated ad blocker tracking protection useful built features browse unique desktop style tabs end end encrypted sync dark private mode download free browse fast ...</td>\n",
       "    </tr>\n",
       "    <tr>\n",
       "      <th>3025</th>\n",
       "      <td>129866</td>\n",
       "      <td>privacy browser</td>\n",
       "      <td>106</td>\n",
       "      <td>in</td>\n",
       "      <td>en</td>\n",
       "      <td>2021-03-06</td>\n",
       "      <td>com.vivaldi.browser</td>\n",
       "      <td>2020-12-18</td>\n",
       "      <td>fast amp private web browser ad blocker sync dark amp private mode</td>\n",
       "      <td>vivaldi new private web browser integrated ad blocker tracking protection useful built features browse unique desktop style tabs end end encrypted sync dark private mode download free browse fast ...</td>\n",
       "    </tr>\n",
       "  </tbody>\n",
       "</table>\n",
       "<p>68 rows × 10 columns</p>\n",
       "</div>"
      ],
      "text/plain": [
       "          ID                       Keyword  Rank Country Language        Date  \\\n",
       "93       244               privacy browser   100      in       en  2020-12-19   \n",
       "137      423  privacy browsers for android   134      in       en  2020-12-21   \n",
       "335    10022                  fast browser   109      in       en  2020-12-26   \n",
       "395    11178                  fast browser   109      in       en  2020-12-27   \n",
       "440    12321               ad free browser   111      in       en  2020-12-28   \n",
       "...      ...                           ...   ...     ...      ...         ...   \n",
       "2822  119044               privacy browser   116      in       en  2021-03-01   \n",
       "2837  119056                  fast browser   106      in       en  2021-03-01   \n",
       "2865  120973               privacy browser   115      in       en  2021-03-02   \n",
       "2880  120985                  fast browser   110      in       en  2021-03-02   \n",
       "3025  129866               privacy browser   106      in       en  2021-03-06   \n",
       "\n",
       "                     App ID Date of Last Description Change  \\\n",
       "93      com.vivaldi.browser                      2020-12-18   \n",
       "137     com.vivaldi.browser                      2020-12-18   \n",
       "335     com.vivaldi.browser                      2020-12-18   \n",
       "395     com.vivaldi.browser                      2020-12-18   \n",
       "440   com.transsion.phoenix                      2020-12-18   \n",
       "...                     ...                             ...   \n",
       "2822    com.vivaldi.browser                      2020-12-18   \n",
       "2837    com.vivaldi.browser                      2020-12-18   \n",
       "2865    com.vivaldi.browser                      2020-12-18   \n",
       "2880    com.vivaldi.browser                      2020-12-18   \n",
       "3025    com.vivaldi.browser                      2020-12-18   \n",
       "\n",
       "                                                         Short Description  \\\n",
       "93      fast amp private web browser ad blocker sync dark amp private mode   \n",
       "137     fast amp private web browser ad blocker sync dark amp private mode   \n",
       "335     fast amp private web browser ad blocker sync dark amp private mode   \n",
       "395     fast amp private web browser ad blocker sync dark amp private mode   \n",
       "440   funny video football amp celebrity news fast amp data saving browser   \n",
       "...                                                                    ...   \n",
       "2822    fast amp private web browser ad blocker sync dark amp private mode   \n",
       "2837    fast amp private web browser ad blocker sync dark amp private mode   \n",
       "2865    fast amp private web browser ad blocker sync dark amp private mode   \n",
       "2880    fast amp private web browser ad blocker sync dark amp private mode   \n",
       "3025    fast amp private web browser ad blocker sync dark amp private mode   \n",
       "\n",
       "                                                                                                                                                                                             Long Description  \n",
       "93    vivaldi new private web browser integrated ad blocker tracking protection useful built features browse unique desktop style tabs end end encrypted sync dark private mode download free browse fast ...  \n",
       "137   vivaldi new private web browser integrated ad blocker tracking protection useful built features browse unique desktop style tabs end end encrypted sync dark private mode download free browse fast ...  \n",
       "335   vivaldi new private web browser integrated ad blocker tracking protection useful built features browse unique desktop style tabs end end encrypted sync dark private mode download free browse fast ...  \n",
       "395   vivaldi new private web browser integrated ad blocker tracking protection useful built features browse unique desktop style tabs end end encrypted sync dark private mode download free browse fast ...  \n",
       "440   phoenix browser fast safe web browser android device featuring local news feed free movie resources main features phoenix browser loads webpages 2x faster saves 90 data enables smooth browsing slo...  \n",
       "...                                                                                                                                                                                                       ...  \n",
       "2822  vivaldi new private web browser integrated ad blocker tracking protection useful built features browse unique desktop style tabs end end encrypted sync dark private mode download free browse fast ...  \n",
       "2837  vivaldi new private web browser integrated ad blocker tracking protection useful built features browse unique desktop style tabs end end encrypted sync dark private mode download free browse fast ...  \n",
       "2865  vivaldi new private web browser integrated ad blocker tracking protection useful built features browse unique desktop style tabs end end encrypted sync dark private mode download free browse fast ...  \n",
       "2880  vivaldi new private web browser integrated ad blocker tracking protection useful built features browse unique desktop style tabs end end encrypted sync dark private mode download free browse fast ...  \n",
       "3025  vivaldi new private web browser integrated ad blocker tracking protection useful built features browse unique desktop style tabs end end encrypted sync dark private mode download free browse fast ...  \n",
       "\n",
       "[68 rows x 10 columns]"
      ]
     },
     "execution_count": 29,
     "metadata": {},
     "output_type": "execute_result"
    }
   ],
   "source": [
    "data[data.Rank>=100]"
   ]
  },
  {
   "cell_type": "code",
   "execution_count": 37,
   "id": "2f6151fa",
   "metadata": {},
   "outputs": [
    {
     "data": {
      "text/plain": [
       "browse web privately search anonymously escape ad trackers                        740\n",
       "puffin tv browser one app watch videos web                                        608\n",
       "free safe internet browser private browsing search engine amp pop blocker         370\n",
       "fast amp private web browser ad blocker sync dark amp private mode                370\n",
       "funny video football amp celebrity news fast amp data saving browser              370\n",
       "fast safe web browser free vpn ad blocker qr code reader amp personalized news    304\n",
       "small fastest secure web browser best mobile browser fast search google           152\n",
       "fast simple secure google chrome browser android phones tablets                   152\n",
       "Name: Short Description, dtype: int64"
      ]
     },
     "execution_count": 37,
     "metadata": {},
     "output_type": "execute_result"
    }
   ],
   "source": [
    "data['Short Description'].value_counts()"
   ]
  },
  {
   "cell_type": "code",
   "execution_count": 39,
   "id": "bee43c07",
   "metadata": {},
   "outputs": [
    {
     "data": {
      "text/plain": [
       "1     428\n",
       "6     104\n",
       "7      24\n",
       "30     16\n",
       "5      12\n",
       "21     12\n",
       "2      12\n",
       "24     10\n",
       "8      10\n",
       "23      8\n",
       "32      8\n",
       "31      8\n",
       "20      6\n",
       "33      6\n",
       "40      6\n",
       "34      6\n",
       "28      6\n",
       "26      6\n",
       "22      4\n",
       "35      4\n",
       "19      4\n",
       "17      4\n",
       "18      4\n",
       "25      4\n",
       "44      4\n",
       "27      4\n",
       "11      2\n",
       "15      2\n",
       "13      2\n",
       "39      2\n",
       "29      2\n",
       "42      2\n",
       "9       2\n",
       "43      2\n",
       "37      2\n",
       "16      2\n",
       "Name: Rank, dtype: Int64"
      ]
     },
     "execution_count": 39,
     "metadata": {},
     "output_type": "execute_result"
    }
   ],
   "source": [
    "data[data['Short Description']=='browse web privately search anonymously escape ad trackers']['Rank'].value_counts()"
   ]
  },
  {
   "cell_type": "code",
   "execution_count": 49,
   "id": "916f1ed7",
   "metadata": {},
   "outputs": [
    {
     "data": {
      "text/html": [
       "<div>\n",
       "<style scoped>\n",
       "    .dataframe tbody tr th:only-of-type {\n",
       "        vertical-align: middle;\n",
       "    }\n",
       "\n",
       "    .dataframe tbody tr th {\n",
       "        vertical-align: top;\n",
       "    }\n",
       "\n",
       "    .dataframe thead th {\n",
       "        text-align: right;\n",
       "    }\n",
       "</style>\n",
       "<table border=\"1\" class=\"dataframe\">\n",
       "  <thead>\n",
       "    <tr style=\"text-align: right;\">\n",
       "      <th></th>\n",
       "      <th>ID</th>\n",
       "      <th>Keyword</th>\n",
       "      <th>Rank</th>\n",
       "      <th>Country</th>\n",
       "      <th>Language</th>\n",
       "      <th>Date</th>\n",
       "      <th>App ID</th>\n",
       "      <th>Date of Last Description Change</th>\n",
       "      <th>Short Description</th>\n",
       "      <th>Long Description</th>\n",
       "    </tr>\n",
       "  </thead>\n",
       "  <tbody>\n",
       "    <tr>\n",
       "      <th>741</th>\n",
       "      <td>21660</td>\n",
       "      <td>best privacy browsers</td>\n",
       "      <td>2</td>\n",
       "      <td>in</td>\n",
       "      <td>en</td>\n",
       "      <td>2021-01-05</td>\n",
       "      <td>com.duckduckgo.mobile.android</td>\n",
       "      <td>2021-02-13</td>\n",
       "      <td>browse web privately search anonymously escape ad trackers</td>\n",
       "      <td>tired tracked online help duckduckgo believe online privacy simple duckduckgo privacy browser speed need browsing features expect like tabs bookmarks comes packed best class privacy essentials tap...</td>\n",
       "    </tr>\n",
       "    <tr>\n",
       "      <th>742</th>\n",
       "      <td>21660</td>\n",
       "      <td>best privacy browsers</td>\n",
       "      <td>2</td>\n",
       "      <td>in</td>\n",
       "      <td>en</td>\n",
       "      <td>2021-01-05</td>\n",
       "      <td>com.duckduckgo.mobile.android</td>\n",
       "      <td>2020-12-18</td>\n",
       "      <td>browse web privately search anonymously escape ad trackers</td>\n",
       "      <td>tired tracked online help duckduckgo believe online privacy simple duckduckgo privacy browser speed need browsing features expect like tabs bookmarks comes packed best class privacy essentials tap...</td>\n",
       "    </tr>\n",
       "    <tr>\n",
       "      <th>771</th>\n",
       "      <td>22900</td>\n",
       "      <td>privacy browser</td>\n",
       "      <td>2</td>\n",
       "      <td>in</td>\n",
       "      <td>en</td>\n",
       "      <td>2021-01-06</td>\n",
       "      <td>com.duckduckgo.mobile.android</td>\n",
       "      <td>2021-02-13</td>\n",
       "      <td>browse web privately search anonymously escape ad trackers</td>\n",
       "      <td>tired tracked online help duckduckgo believe online privacy simple duckduckgo privacy browser speed need browsing features expect like tabs bookmarks comes packed best class privacy essentials tap...</td>\n",
       "    </tr>\n",
       "    <tr>\n",
       "      <th>772</th>\n",
       "      <td>22900</td>\n",
       "      <td>privacy browser</td>\n",
       "      <td>2</td>\n",
       "      <td>in</td>\n",
       "      <td>en</td>\n",
       "      <td>2021-01-06</td>\n",
       "      <td>com.duckduckgo.mobile.android</td>\n",
       "      <td>2020-12-18</td>\n",
       "      <td>browse web privately search anonymously escape ad trackers</td>\n",
       "      <td>tired tracked online help duckduckgo believe online privacy simple duckduckgo privacy browser speed need browsing features expect like tabs bookmarks comes packed best class privacy essentials tap...</td>\n",
       "    </tr>\n",
       "    <tr>\n",
       "      <th>781</th>\n",
       "      <td>22908</td>\n",
       "      <td>best privacy browsers</td>\n",
       "      <td>2</td>\n",
       "      <td>in</td>\n",
       "      <td>en</td>\n",
       "      <td>2021-01-06</td>\n",
       "      <td>com.duckduckgo.mobile.android</td>\n",
       "      <td>2021-02-13</td>\n",
       "      <td>browse web privately search anonymously escape ad trackers</td>\n",
       "      <td>tired tracked online help duckduckgo believe online privacy simple duckduckgo privacy browser speed need browsing features expect like tabs bookmarks comes packed best class privacy essentials tap...</td>\n",
       "    </tr>\n",
       "    <tr>\n",
       "      <th>782</th>\n",
       "      <td>22908</td>\n",
       "      <td>best privacy browsers</td>\n",
       "      <td>2</td>\n",
       "      <td>in</td>\n",
       "      <td>en</td>\n",
       "      <td>2021-01-06</td>\n",
       "      <td>com.duckduckgo.mobile.android</td>\n",
       "      <td>2020-12-18</td>\n",
       "      <td>browse web privately search anonymously escape ad trackers</td>\n",
       "      <td>tired tracked online help duckduckgo believe online privacy simple duckduckgo privacy browser speed need browsing features expect like tabs bookmarks comes packed best class privacy essentials tap...</td>\n",
       "    </tr>\n",
       "    <tr>\n",
       "      <th>852</th>\n",
       "      <td>25277</td>\n",
       "      <td>privacy browser</td>\n",
       "      <td>2</td>\n",
       "      <td>in</td>\n",
       "      <td>en</td>\n",
       "      <td>2021-01-08</td>\n",
       "      <td>com.duckduckgo.mobile.android</td>\n",
       "      <td>2021-02-13</td>\n",
       "      <td>browse web privately search anonymously escape ad trackers</td>\n",
       "      <td>tired tracked online help duckduckgo believe online privacy simple duckduckgo privacy browser speed need browsing features expect like tabs bookmarks comes packed best class privacy essentials tap...</td>\n",
       "    </tr>\n",
       "    <tr>\n",
       "      <th>853</th>\n",
       "      <td>25277</td>\n",
       "      <td>privacy browser</td>\n",
       "      <td>2</td>\n",
       "      <td>in</td>\n",
       "      <td>en</td>\n",
       "      <td>2021-01-08</td>\n",
       "      <td>com.duckduckgo.mobile.android</td>\n",
       "      <td>2020-12-18</td>\n",
       "      <td>browse web privately search anonymously escape ad trackers</td>\n",
       "      <td>tired tracked online help duckduckgo believe online privacy simple duckduckgo privacy browser speed need browsing features expect like tabs bookmarks comes packed best class privacy essentials tap...</td>\n",
       "    </tr>\n",
       "    <tr>\n",
       "      <th>2627</th>\n",
       "      <td>107933</td>\n",
       "      <td>best privacy browsers</td>\n",
       "      <td>2</td>\n",
       "      <td>in</td>\n",
       "      <td>en</td>\n",
       "      <td>2021-02-24</td>\n",
       "      <td>com.duckduckgo.mobile.android</td>\n",
       "      <td>2021-02-13</td>\n",
       "      <td>browse web privately search anonymously escape ad trackers</td>\n",
       "      <td>tired tracked online help duckduckgo believe online privacy simple duckduckgo privacy browser speed need browsing features expect like tabs bookmarks comes packed best class privacy essentials tap...</td>\n",
       "    </tr>\n",
       "    <tr>\n",
       "      <th>2628</th>\n",
       "      <td>107933</td>\n",
       "      <td>best privacy browsers</td>\n",
       "      <td>2</td>\n",
       "      <td>in</td>\n",
       "      <td>en</td>\n",
       "      <td>2021-02-24</td>\n",
       "      <td>com.duckduckgo.mobile.android</td>\n",
       "      <td>2020-12-18</td>\n",
       "      <td>browse web privately search anonymously escape ad trackers</td>\n",
       "      <td>tired tracked online help duckduckgo believe online privacy simple duckduckgo privacy browser speed need browsing features expect like tabs bookmarks comes packed best class privacy essentials tap...</td>\n",
       "    </tr>\n",
       "    <tr>\n",
       "      <th>2669</th>\n",
       "      <td>110158</td>\n",
       "      <td>best privacy browsers</td>\n",
       "      <td>2</td>\n",
       "      <td>in</td>\n",
       "      <td>en</td>\n",
       "      <td>2021-02-25</td>\n",
       "      <td>com.duckduckgo.mobile.android</td>\n",
       "      <td>2021-02-13</td>\n",
       "      <td>browse web privately search anonymously escape ad trackers</td>\n",
       "      <td>tired tracked online help duckduckgo believe online privacy simple duckduckgo privacy browser speed need browsing features expect like tabs bookmarks comes packed best class privacy essentials tap...</td>\n",
       "    </tr>\n",
       "    <tr>\n",
       "      <th>2670</th>\n",
       "      <td>110158</td>\n",
       "      <td>best privacy browsers</td>\n",
       "      <td>2</td>\n",
       "      <td>in</td>\n",
       "      <td>en</td>\n",
       "      <td>2021-02-25</td>\n",
       "      <td>com.duckduckgo.mobile.android</td>\n",
       "      <td>2020-12-18</td>\n",
       "      <td>browse web privately search anonymously escape ad trackers</td>\n",
       "      <td>tired tracked online help duckduckgo believe online privacy simple duckduckgo privacy browser speed need browsing features expect like tabs bookmarks comes packed best class privacy essentials tap...</td>\n",
       "    </tr>\n",
       "  </tbody>\n",
       "</table>\n",
       "</div>"
      ],
      "text/plain": [
       "          ID                Keyword  Rank Country Language        Date  \\\n",
       "741    21660  best privacy browsers     2      in       en  2021-01-05   \n",
       "742    21660  best privacy browsers     2      in       en  2021-01-05   \n",
       "771    22900        privacy browser     2      in       en  2021-01-06   \n",
       "772    22900        privacy browser     2      in       en  2021-01-06   \n",
       "781    22908  best privacy browsers     2      in       en  2021-01-06   \n",
       "782    22908  best privacy browsers     2      in       en  2021-01-06   \n",
       "852    25277        privacy browser     2      in       en  2021-01-08   \n",
       "853    25277        privacy browser     2      in       en  2021-01-08   \n",
       "2627  107933  best privacy browsers     2      in       en  2021-02-24   \n",
       "2628  107933  best privacy browsers     2      in       en  2021-02-24   \n",
       "2669  110158  best privacy browsers     2      in       en  2021-02-25   \n",
       "2670  110158  best privacy browsers     2      in       en  2021-02-25   \n",
       "\n",
       "                             App ID Date of Last Description Change  \\\n",
       "741   com.duckduckgo.mobile.android                      2021-02-13   \n",
       "742   com.duckduckgo.mobile.android                      2020-12-18   \n",
       "771   com.duckduckgo.mobile.android                      2021-02-13   \n",
       "772   com.duckduckgo.mobile.android                      2020-12-18   \n",
       "781   com.duckduckgo.mobile.android                      2021-02-13   \n",
       "782   com.duckduckgo.mobile.android                      2020-12-18   \n",
       "852   com.duckduckgo.mobile.android                      2021-02-13   \n",
       "853   com.duckduckgo.mobile.android                      2020-12-18   \n",
       "2627  com.duckduckgo.mobile.android                      2021-02-13   \n",
       "2628  com.duckduckgo.mobile.android                      2020-12-18   \n",
       "2669  com.duckduckgo.mobile.android                      2021-02-13   \n",
       "2670  com.duckduckgo.mobile.android                      2020-12-18   \n",
       "\n",
       "                                               Short Description  \\\n",
       "741   browse web privately search anonymously escape ad trackers   \n",
       "742   browse web privately search anonymously escape ad trackers   \n",
       "771   browse web privately search anonymously escape ad trackers   \n",
       "772   browse web privately search anonymously escape ad trackers   \n",
       "781   browse web privately search anonymously escape ad trackers   \n",
       "782   browse web privately search anonymously escape ad trackers   \n",
       "852   browse web privately search anonymously escape ad trackers   \n",
       "853   browse web privately search anonymously escape ad trackers   \n",
       "2627  browse web privately search anonymously escape ad trackers   \n",
       "2628  browse web privately search anonymously escape ad trackers   \n",
       "2669  browse web privately search anonymously escape ad trackers   \n",
       "2670  browse web privately search anonymously escape ad trackers   \n",
       "\n",
       "                                                                                                                                                                                             Long Description  \n",
       "741   tired tracked online help duckduckgo believe online privacy simple duckduckgo privacy browser speed need browsing features expect like tabs bookmarks comes packed best class privacy essentials tap...  \n",
       "742   tired tracked online help duckduckgo believe online privacy simple duckduckgo privacy browser speed need browsing features expect like tabs bookmarks comes packed best class privacy essentials tap...  \n",
       "771   tired tracked online help duckduckgo believe online privacy simple duckduckgo privacy browser speed need browsing features expect like tabs bookmarks comes packed best class privacy essentials tap...  \n",
       "772   tired tracked online help duckduckgo believe online privacy simple duckduckgo privacy browser speed need browsing features expect like tabs bookmarks comes packed best class privacy essentials tap...  \n",
       "781   tired tracked online help duckduckgo believe online privacy simple duckduckgo privacy browser speed need browsing features expect like tabs bookmarks comes packed best class privacy essentials tap...  \n",
       "782   tired tracked online help duckduckgo believe online privacy simple duckduckgo privacy browser speed need browsing features expect like tabs bookmarks comes packed best class privacy essentials tap...  \n",
       "852   tired tracked online help duckduckgo believe online privacy simple duckduckgo privacy browser speed need browsing features expect like tabs bookmarks comes packed best class privacy essentials tap...  \n",
       "853   tired tracked online help duckduckgo believe online privacy simple duckduckgo privacy browser speed need browsing features expect like tabs bookmarks comes packed best class privacy essentials tap...  \n",
       "2627  tired tracked online help duckduckgo believe online privacy simple duckduckgo privacy browser speed need browsing features expect like tabs bookmarks comes packed best class privacy essentials tap...  \n",
       "2628  tired tracked online help duckduckgo believe online privacy simple duckduckgo privacy browser speed need browsing features expect like tabs bookmarks comes packed best class privacy essentials tap...  \n",
       "2669  tired tracked online help duckduckgo believe online privacy simple duckduckgo privacy browser speed need browsing features expect like tabs bookmarks comes packed best class privacy essentials tap...  \n",
       "2670  tired tracked online help duckduckgo believe online privacy simple duckduckgo privacy browser speed need browsing features expect like tabs bookmarks comes packed best class privacy essentials tap...  "
      ]
     },
     "execution_count": 49,
     "metadata": {},
     "output_type": "execute_result"
    }
   ],
   "source": [
    "data[(data['Short Description']=='browse web privately search anonymously escape ad trackers')&(data['Rank']==2)]"
   ]
  },
  {
   "cell_type": "code",
   "execution_count": 71,
   "id": "7dd61616",
   "metadata": {},
   "outputs": [],
   "source": [
    "def keyword_check(key,text,limit):\n",
    "    key_list=key.split()\n",
    "    text_list=text.split()\n",
    "    if limit!=-1:\n",
    "        result=[text_list[:limit].count(i) for i in key_list]\n",
    "        return sum(result)\n",
    "    else:\n",
    "        result=[text_list.count(i) for i in key_list]\n",
    "        return sum(result)"
   ]
  },
  {
   "cell_type": "code",
   "execution_count": 72,
   "id": "ecca9015",
   "metadata": {},
   "outputs": [],
   "source": [
    "data['keyword_in_LD20']=data.apply(lambda x:keyword_check(x['Keyword'],x['Long Description'],20),axis=1)"
   ]
  },
  {
   "cell_type": "code",
   "execution_count": 73,
   "id": "b1c79c26",
   "metadata": {},
   "outputs": [],
   "source": [
    "data['keyword_in_LD15']=data.apply(lambda x:keyword_check(x['Keyword'],x['Long Description'],15),axis=1)"
   ]
  },
  {
   "cell_type": "code",
   "execution_count": 74,
   "id": "fa08a11f",
   "metadata": {},
   "outputs": [],
   "source": [
    "data['keyword_in_LD10']=data.apply(lambda x:keyword_check(x['Keyword'],x['Long Description'],10),axis=1)"
   ]
  },
  {
   "cell_type": "code",
   "execution_count": 75,
   "id": "ea01483d",
   "metadata": {},
   "outputs": [],
   "source": [
    "data['keyword_in_SD']=data.apply(lambda x:keyword_check(x['Keyword'],x['Short Description'],-1),axis=1)"
   ]
  },
  {
   "cell_type": "code",
   "execution_count": 79,
   "id": "6f703993",
   "metadata": {},
   "outputs": [],
   "source": [
    "data['keyword_in_SD_LD10']=data.apply(lambda x: x['keyword_in_SD']+x['keyword_in_LD10'],axis=1)"
   ]
  },
  {
   "cell_type": "code",
   "execution_count": 80,
   "id": "dbc7d096",
   "metadata": {},
   "outputs": [],
   "source": [
    "data['keyword_in_SD_LD15']=data.apply(lambda x: x['keyword_in_SD']+x['keyword_in_LD15'],axis=1)\n",
    "data['keyword_in_SD_LD20']=data.apply(lambda x: x['keyword_in_SD']+x['keyword_in_LD20'],axis=1)"
   ]
  },
  {
   "cell_type": "markdown",
   "id": "3277154e",
   "metadata": {},
   "source": [
    "### Below it is the heatmap which shows the correlation across various fields\n",
    "\n",
    "#### To bring out a relationship between keyword,short discription,long discription and rank I have introduced some quantitized values. they are :\n",
    "\n",
    "keyword_in_LD20 --> number of times each keyword was present in the first 20 words on long siscription.<br>\n",
    "keyword_in_LD15 --> number of times each keyword was present in the first 15 words on long siscription.<br>\n",
    "keyword_in_LD10 --> number of times each keyword was present in the first 10 words on long siscription.<br>\n",
    "keyword_in_SD --> number of times each keyword was present in the short siscription.<br>\n",
    "keyword_in_SD_LD10 --> number of times each keyword was present in the short discription + first 10 words on long siscription.<br>\n",
    "keyword_in_SD_LD15 --> number of times each keyword was present in the short discription + first 15 words on long siscription.<br>\n",
    "keyword_in_SD_LD20 --> number of times each keyword was present in the short discription + first 20 words on long siscription.<br>"
   ]
  },
  {
   "cell_type": "code",
   "execution_count": 81,
   "id": "1016a0c0",
   "metadata": {},
   "outputs": [
    {
     "data": {
      "text/plain": [
       "<AxesSubplot:>"
      ]
     },
     "execution_count": 81,
     "metadata": {},
     "output_type": "execute_result"
    },
    {
     "data": {
      "image/png": "[encoded data removed]",
      "text/plain": [
       "<Figure size 432x288 with 2 Axes>"
      ]
     },
     "metadata": {
      "needs_background": "light"
     },
     "output_type": "display_data"
    }
   ],
   "source": [
    "sns.heatmap(data[['Rank','keyword_in_LD20','keyword_in_LD15','keyword_in_LD10','keyword_in_SD','keyword_in_SD_LD10','keyword_in_SD_LD15','keyword_in_SD_LD20']].corr())"
   ]
  },
  {
   "cell_type": "code",
   "execution_count": 82,
   "id": "497c2abe",
   "metadata": {},
   "outputs": [
    {
     "data": {
      "text/html": [
       "<div>\n",
       "<style scoped>\n",
       "    .dataframe tbody tr th:only-of-type {\n",
       "        vertical-align: middle;\n",
       "    }\n",
       "\n",
       "    .dataframe tbody tr th {\n",
       "        vertical-align: top;\n",
       "    }\n",
       "\n",
       "    .dataframe thead th {\n",
       "        text-align: right;\n",
       "    }\n",
       "</style>\n",
       "<table border=\"1\" class=\"dataframe\">\n",
       "  <thead>\n",
       "    <tr style=\"text-align: right;\">\n",
       "      <th></th>\n",
       "      <th>Rank</th>\n",
       "      <th>keyword_in_LD20</th>\n",
       "      <th>keyword_in_LD15</th>\n",
       "      <th>keyword_in_LD10</th>\n",
       "      <th>keyword_in_SD</th>\n",
       "      <th>keyword_in_SD_LD10</th>\n",
       "      <th>keyword_in_SD_LD15</th>\n",
       "      <th>keyword_in_SD_LD20</th>\n",
       "    </tr>\n",
       "  </thead>\n",
       "  <tbody>\n",
       "    <tr>\n",
       "      <th>Rank</th>\n",
       "      <td>1.000000</td>\n",
       "      <td>-0.238115</td>\n",
       "      <td>-0.291190</td>\n",
       "      <td>-0.214737</td>\n",
       "      <td>0.047123</td>\n",
       "      <td>-0.119866</td>\n",
       "      <td>-0.192864</td>\n",
       "      <td>-0.160590</td>\n",
       "    </tr>\n",
       "    <tr>\n",
       "      <th>keyword_in_LD20</th>\n",
       "      <td>-0.238115</td>\n",
       "      <td>1.000000</td>\n",
       "      <td>0.961516</td>\n",
       "      <td>0.844228</td>\n",
       "      <td>0.371504</td>\n",
       "      <td>0.733627</td>\n",
       "      <td>0.887027</td>\n",
       "      <td>0.917852</td>\n",
       "    </tr>\n",
       "    <tr>\n",
       "      <th>keyword_in_LD15</th>\n",
       "      <td>-0.291190</td>\n",
       "      <td>0.961516</td>\n",
       "      <td>1.000000</td>\n",
       "      <td>0.821452</td>\n",
       "      <td>0.325497</td>\n",
       "      <td>0.696877</td>\n",
       "      <td>0.893635</td>\n",
       "      <td>0.868974</td>\n",
       "    </tr>\n",
       "    <tr>\n",
       "      <th>keyword_in_LD10</th>\n",
       "      <td>-0.214737</td>\n",
       "      <td>0.844228</td>\n",
       "      <td>0.821452</td>\n",
       "      <td>1.000000</td>\n",
       "      <td>0.545536</td>\n",
       "      <td>0.918702</td>\n",
       "      <td>0.866103</td>\n",
       "      <td>0.874019</td>\n",
       "    </tr>\n",
       "    <tr>\n",
       "      <th>keyword_in_SD</th>\n",
       "      <td>0.047123</td>\n",
       "      <td>0.371504</td>\n",
       "      <td>0.325497</td>\n",
       "      <td>0.545536</td>\n",
       "      <td>1.000000</td>\n",
       "      <td>0.832189</td>\n",
       "      <td>0.715229</td>\n",
       "      <td>0.709500</td>\n",
       "    </tr>\n",
       "    <tr>\n",
       "      <th>keyword_in_SD_LD10</th>\n",
       "      <td>-0.119866</td>\n",
       "      <td>0.733627</td>\n",
       "      <td>0.696877</td>\n",
       "      <td>0.918702</td>\n",
       "      <td>0.832189</td>\n",
       "      <td>1.000000</td>\n",
       "      <td>0.910082</td>\n",
       "      <td>0.912619</td>\n",
       "    </tr>\n",
       "    <tr>\n",
       "      <th>keyword_in_SD_LD15</th>\n",
       "      <td>-0.192864</td>\n",
       "      <td>0.887027</td>\n",
       "      <td>0.893635</td>\n",
       "      <td>0.866103</td>\n",
       "      <td>0.715229</td>\n",
       "      <td>0.910082</td>\n",
       "      <td>1.000000</td>\n",
       "      <td>0.979052</td>\n",
       "    </tr>\n",
       "    <tr>\n",
       "      <th>keyword_in_SD_LD20</th>\n",
       "      <td>-0.160590</td>\n",
       "      <td>0.917852</td>\n",
       "      <td>0.868974</td>\n",
       "      <td>0.874019</td>\n",
       "      <td>0.709500</td>\n",
       "      <td>0.912619</td>\n",
       "      <td>0.979052</td>\n",
       "      <td>1.000000</td>\n",
       "    </tr>\n",
       "  </tbody>\n",
       "</table>\n",
       "</div>"
      ],
      "text/plain": [
       "                        Rank  keyword_in_LD20  keyword_in_LD15  \\\n",
       "Rank                1.000000        -0.238115        -0.291190   \n",
       "keyword_in_LD20    -0.238115         1.000000         0.961516   \n",
       "keyword_in_LD15    -0.291190         0.961516         1.000000   \n",
       "keyword_in_LD10    -0.214737         0.844228         0.821452   \n",
       "keyword_in_SD       0.047123         0.371504         0.325497   \n",
       "keyword_in_SD_LD10 -0.119866         0.733627         0.696877   \n",
       "keyword_in_SD_LD15 -0.192864         0.887027         0.893635   \n",
       "keyword_in_SD_LD20 -0.160590         0.917852         0.868974   \n",
       "\n",
       "                    keyword_in_LD10  keyword_in_SD  keyword_in_SD_LD10  \\\n",
       "Rank                      -0.214737       0.047123           -0.119866   \n",
       "keyword_in_LD20            0.844228       0.371504            0.733627   \n",
       "keyword_in_LD15            0.821452       0.325497            0.696877   \n",
       "keyword_in_LD10            1.000000       0.545536            0.918702   \n",
       "keyword_in_SD              0.545536       1.000000            0.832189   \n",
       "keyword_in_SD_LD10         0.918702       0.832189            1.000000   \n",
       "keyword_in_SD_LD15         0.866103       0.715229            0.910082   \n",
       "keyword_in_SD_LD20         0.874019       0.709500            0.912619   \n",
       "\n",
       "                    keyword_in_SD_LD15  keyword_in_SD_LD20  \n",
       "Rank                         -0.192864           -0.160590  \n",
       "keyword_in_LD20               0.887027            0.917852  \n",
       "keyword_in_LD15               0.893635            0.868974  \n",
       "keyword_in_LD10               0.866103            0.874019  \n",
       "keyword_in_SD                 0.715229            0.709500  \n",
       "keyword_in_SD_LD10            0.910082            0.912619  \n",
       "keyword_in_SD_LD15            1.000000            0.979052  \n",
       "keyword_in_SD_LD20            0.979052            1.000000  "
      ]
     },
     "execution_count": 82,
     "metadata": {},
     "output_type": "execute_result"
    }
   ],
   "source": [
    "data[['Rank','keyword_in_LD20','keyword_in_LD15','keyword_in_LD10','keyword_in_SD','keyword_in_SD_LD10','keyword_in_SD_LD15','keyword_in_SD_LD20']].corr()"
   ]
  },
  {
   "cell_type": "markdown",
   "id": "a6f0f3c3",
   "metadata": {},
   "source": [
    "### Looking at the above correlation matrix and heatmap We can say that\n",
    "\n",
    "1) keyword_in_LD20,keyword_in_LD15,keyword_in_LD10,keyword_in_SD_LD10,keyword_in_SD_LD15,keyword_in_SD_LD20 are neagtively correlated with the ranking values. Among which keyword_in_LD15 was the least negatively correlated.<br>\n",
    "2) Which means that more the number of keywords within first 15 words of discription lesser is the quantitative value of rank (which means high rank in reality).<br>\n",
    "3) keyword_in_SD keyword in short description barely had a relationship with rank alone."
   ]
  },
  {
   "cell_type": "code",
   "execution_count": 54,
   "id": "3263f992",
   "metadata": {},
   "outputs": [],
   "source": [
    "#lst.count(x)"
   ]
  },
  {
   "cell_type": "markdown",
   "id": "6140f2be",
   "metadata": {},
   "source": [
    "### Now lets check if APP ID and rank has any relationship in terms of keywords"
   ]
  },
  {
   "cell_type": "code",
   "execution_count": 83,
   "id": "9b33839f",
   "metadata": {},
   "outputs": [
    {
     "data": {
      "text/plain": [
       "array(['net.fast.web.browser', 'com.android.chrome', 'com.opera.browser',\n",
       "       'com.cloudmosa.puffinTV', 'com.brave.browser',\n",
       "       'com.vivaldi.browser', 'com.duckduckgo.mobile.android',\n",
       "       'com.transsion.phoenix'], dtype=object)"
      ]
     },
     "execution_count": 83,
     "metadata": {},
     "output_type": "execute_result"
    }
   ],
   "source": [
    "data['App ID'].unique()"
   ]
  },
  {
   "cell_type": "code",
   "execution_count": 95,
   "id": "94a9522d",
   "metadata": {},
   "outputs": [],
   "source": [
    "def keyword_inAppID(key,text):\n",
    "    key_list=key.split()\n",
    "    text_list=text.split(\".\")\n",
    "    result=[text_list.count(i) for i in key_list]\n",
    "    return sum(result)\n",
    "        "
   ]
  },
  {
   "cell_type": "code",
   "execution_count": 96,
   "id": "bb3dc80a",
   "metadata": {},
   "outputs": [],
   "source": [
    "data['keyword_App_ID']=data.apply(lambda x:keyword_inAppID(x['Keyword'],x['App ID']),axis=1)"
   ]
  },
  {
   "cell_type": "code",
   "execution_count": 97,
   "id": "0b1cd8dc",
   "metadata": {},
   "outputs": [
    {
     "data": {
      "text/plain": [
       "<AxesSubplot:>"
      ]
     },
     "execution_count": 97,
     "metadata": {},
     "output_type": "execute_result"
    },
    {
     "data": {
      "image/png": "[encoded data removed]",
      "text/plain": [
       "<Figure size 432x288 with 2 Axes>"
      ]
     },
     "metadata": {
      "needs_background": "light"
     },
     "output_type": "display_data"
    }
   ],
   "source": [
    "sns.heatmap(data[['Rank','keyword_App_ID']].corr())"
   ]
  },
  {
   "cell_type": "code",
   "execution_count": 98,
   "id": "9fc5df09",
   "metadata": {},
   "outputs": [
    {
     "data": {
      "text/html": [
       "<div>\n",
       "<style scoped>\n",
       "    .dataframe tbody tr th:only-of-type {\n",
       "        vertical-align: middle;\n",
       "    }\n",
       "\n",
       "    .dataframe tbody tr th {\n",
       "        vertical-align: top;\n",
       "    }\n",
       "\n",
       "    .dataframe thead th {\n",
       "        text-align: right;\n",
       "    }\n",
       "</style>\n",
       "<table border=\"1\" class=\"dataframe\">\n",
       "  <thead>\n",
       "    <tr style=\"text-align: right;\">\n",
       "      <th></th>\n",
       "      <th>Rank</th>\n",
       "      <th>keyword_App_ID</th>\n",
       "    </tr>\n",
       "  </thead>\n",
       "  <tbody>\n",
       "    <tr>\n",
       "      <th>Rank</th>\n",
       "      <td>1.000000</td>\n",
       "      <td>0.048191</td>\n",
       "    </tr>\n",
       "    <tr>\n",
       "      <th>keyword_App_ID</th>\n",
       "      <td>0.048191</td>\n",
       "      <td>1.000000</td>\n",
       "    </tr>\n",
       "  </tbody>\n",
       "</table>\n",
       "</div>"
      ],
      "text/plain": [
       "                    Rank  keyword_App_ID\n",
       "Rank            1.000000        0.048191\n",
       "keyword_App_ID  0.048191        1.000000"
      ]
     },
     "execution_count": 98,
     "metadata": {},
     "output_type": "execute_result"
    }
   ],
   "source": [
    "data[['Rank','keyword_App_ID']].corr()"
   ]
  },
  {
   "cell_type": "markdown",
   "id": "10b74ce6",
   "metadata": {},
   "source": [
    "### Looking at the above correlation matrix and heatmap We can say that\n",
    "\n",
    "1) There is no relationship between appid , rank and keyword..<br>"
   ]
  },
  {
   "cell_type": "code",
   "execution_count": 110,
   "id": "1cf4a2bd",
   "metadata": {},
   "outputs": [],
   "source": [
    "rank_mt_50=data[(data['Rank']>=50)]\n",
    "rank_lt_10=data[(data['Rank']<=10)]\n",
    "rank_bw_20and50=data[(data['Rank']<=50)&(data['Rank']>=20)]\n",
    "rank_bw_30and50=data[(data['Rank']<=50)&(data['Rank']>=30)]"
   ]
  },
  {
   "cell_type": "code",
   "execution_count": 104,
   "id": "66ce8086",
   "metadata": {},
   "outputs": [
    {
     "name": "stderr",
     "output_type": "stream",
     "text": [
      "C:\\ProgramData\\Anaconda3\\lib\\site-packages\\seaborn\\_decorators.py:36: FutureWarning: Pass the following variables as keyword args: x, y. From version 0.12, the only valid positional argument will be `data`, and passing other arguments without an explicit keyword will result in an error or misinterpretation.\n",
      "  warnings.warn(\n"
     ]
    },
    {
     "data": {
      "text/plain": [
       "(array([0, 1]),\n",
       " [Text(0, 0, 'com.vivaldi.browser'), Text(1, 0, 'com.transsion.phoenix')])"
      ]
     },
     "execution_count": 104,
     "metadata": {},
     "output_type": "execute_result"
    },
    {
     "data": {
      "image/png": "[encoded data removed]",
      "text/plain": [
       "<Figure size 720x360 with 1 Axes>"
      ]
     },
     "metadata": {
      "needs_background": "light"
     },
     "output_type": "display_data"
    }
   ],
   "source": [
    "plt.figure(figsize = (10,5))\n",
    "ax=sns.barplot(rank_mt_50['App ID'].value_counts().index,rank_mt_50['App ID'].value_counts()).set_title('App ID')\n",
    "plt.xticks(rotation=0)"
   ]
  },
  {
   "cell_type": "markdown",
   "id": "9085601c",
   "metadata": {},
   "source": [
    "#### Above is a plot for the App ID more than 50 rank (number value) . We see that com.vivaldi.browser and com.transmission.phoenix are the only ones below 50 ranks. Also they are the App ID with  least records in the dataset"
   ]
  },
  {
   "cell_type": "code",
   "execution_count": 106,
   "id": "8e72817c",
   "metadata": {},
   "outputs": [
    {
     "name": "stderr",
     "output_type": "stream",
     "text": [
      "C:\\ProgramData\\Anaconda3\\lib\\site-packages\\seaborn\\_decorators.py:36: FutureWarning: Pass the following variables as keyword args: x, y. From version 0.12, the only valid positional argument will be `data`, and passing other arguments without an explicit keyword will result in an error or misinterpretation.\n",
      "  warnings.warn(\n"
     ]
    },
    {
     "data": {
      "text/plain": [
       "(array([0, 1, 2, 3, 4, 5, 6, 7]),\n",
       " [Text(0, 0, 'com.duckduckgo.mobile.android'),\n",
       "  Text(1, 0, 'com.cloudmosa.puffinTV'),\n",
       "  Text(2, 0, 'com.brave.browser'),\n",
       "  Text(3, 0, 'com.opera.browser'),\n",
       "  Text(4, 0, 'net.fast.web.browser'),\n",
       "  Text(5, 0, 'com.android.chrome'),\n",
       "  Text(6, 0, 'com.transsion.phoenix'),\n",
       "  Text(7, 0, 'com.vivaldi.browser')])"
      ]
     },
     "execution_count": 106,
     "metadata": {},
     "output_type": "execute_result"
    },
    {
     "data": {
      "image/png": "[encoded data removed]",
      "text/plain": [
       "<Figure size 936x360 with 1 Axes>"
      ]
     },
     "metadata": {
      "needs_background": "light"
     },
     "output_type": "display_data"
    }
   ],
   "source": [
    "plt.figure(figsize = (13,5))\n",
    "ax=sns.barplot(rank_lt_10['App ID'].value_counts().index,rank_lt_10['App ID'].value_counts()).set_title('App ID')\n",
    "plt.xticks(rotation=45)"
   ]
  },
  {
   "cell_type": "markdown",
   "id": "629a1abe",
   "metadata": {},
   "source": [
    "#### Above is a plot for the App ID less than 10 rank (number value) . We see that all App ID falls under this range atleast once. com.duckduckgo.mobile.android and com.cloudmosa.puffinTV appears to be most popular with higher two records in the dataset and also here we can see that they are the higher falling under the rank less than 10."
   ]
  },
  {
   "cell_type": "code",
   "execution_count": 109,
   "id": "7259ffcc",
   "metadata": {},
   "outputs": [
    {
     "name": "stderr",
     "output_type": "stream",
     "text": [
      "C:\\ProgramData\\Anaconda3\\lib\\site-packages\\seaborn\\_decorators.py:36: FutureWarning: Pass the following variables as keyword args: x, y. From version 0.12, the only valid positional argument will be `data`, and passing other arguments without an explicit keyword will result in an error or misinterpretation.\n",
      "  warnings.warn(\n"
     ]
    },
    {
     "data": {
      "text/plain": [
       "(array([0, 1, 2, 3, 4]),\n",
       " [Text(0, 0, 'com.duckduckgo.mobile.android'),\n",
       "  Text(1, 0, 'com.transsion.phoenix'),\n",
       "  Text(2, 0, 'com.vivaldi.browser'),\n",
       "  Text(3, 0, 'com.android.chrome'),\n",
       "  Text(4, 0, 'net.fast.web.browser')])"
      ]
     },
     "execution_count": 109,
     "metadata": {},
     "output_type": "execute_result"
    },
    {
     "data": {
      "image/png": "[encoded data removed]",
      "text/plain": [
       "<Figure size 936x360 with 1 Axes>"
      ]
     },
     "metadata": {
      "needs_background": "light"
     },
     "output_type": "display_data"
    }
   ],
   "source": [
    "plt.figure(figsize = (13,5))\n",
    "ax=sns.barplot(rank_bw_20and50['App ID'].value_counts().index,rank_bw_20and50['App ID'].value_counts()).set_title('App ID')\n",
    "plt.xticks(rotation=45)"
   ]
  },
  {
   "cell_type": "code",
   "execution_count": 111,
   "id": "44b8fc40",
   "metadata": {},
   "outputs": [
    {
     "name": "stderr",
     "output_type": "stream",
     "text": [
      "C:\\ProgramData\\Anaconda3\\lib\\site-packages\\seaborn\\_decorators.py:36: FutureWarning: Pass the following variables as keyword args: x, y. From version 0.12, the only valid positional argument will be `data`, and passing other arguments without an explicit keyword will result in an error or misinterpretation.\n",
      "  warnings.warn(\n"
     ]
    },
    {
     "data": {
      "text/plain": [
       "(array([0, 1, 2]),\n",
       " [Text(0, 0, 'com.duckduckgo.mobile.android'),\n",
       "  Text(1, 0, 'com.vivaldi.browser'),\n",
       "  Text(2, 0, 'com.transsion.phoenix')])"
      ]
     },
     "execution_count": 111,
     "metadata": {},
     "output_type": "execute_result"
    },
    {
     "data": {
      "image/png": "[encoded data removed]",
      "text/plain": [
       "<Figure size 936x360 with 1 Axes>"
      ]
     },
     "metadata": {
      "needs_background": "light"
     },
     "output_type": "display_data"
    }
   ],
   "source": [
    "plt.figure(figsize = (13,5))\n",
    "ax=sns.barplot(rank_bw_30and50['App ID'].value_counts().index,rank_bw_30and50['App ID'].value_counts()).set_title('App ID')\n",
    "plt.xticks(rotation=45)"
   ]
  },
  {
   "cell_type": "code",
   "execution_count": null,
   "id": "374c052d",
   "metadata": {},
   "outputs": [],
   "source": []
  },
  {
   "cell_type": "code",
   "execution_count": 107,
   "id": "da154d8d",
   "metadata": {},
   "outputs": [
    {
     "data": {
      "text/plain": [
       "com.duckduckgo.mobile.android    740\n",
       "com.cloudmosa.puffinTV           608\n",
       "com.brave.browser                370\n",
       "com.vivaldi.browser              370\n",
       "com.transsion.phoenix            370\n",
       "com.opera.browser                304\n",
       "net.fast.web.browser             152\n",
       "com.android.chrome               152\n",
       "Name: App ID, dtype: int64"
      ]
     },
     "execution_count": 107,
     "metadata": {},
     "output_type": "execute_result"
    }
   ],
   "source": [
    "data['App ID'].value_counts()"
   ]
  },
  {
   "cell_type": "code",
   "execution_count": 112,
   "id": "4cb712b4",
   "metadata": {},
   "outputs": [],
   "source": [
    "now = pd.Timestamp('now')\n",
    "data['last_update_age'] = (now - data['Date of Last Description Change']).astype('timedelta64[D]')"
   ]
  },
  {
   "cell_type": "code",
   "execution_count": 114,
   "id": "165699e3",
   "metadata": {},
   "outputs": [
    {
     "data": {
      "text/plain": [
       "<AxesSubplot:xlabel='Rank'>"
      ]
     },
     "execution_count": 114,
     "metadata": {},
     "output_type": "execute_result"
    },
    {
     "data": {
      "image/png": "[encoded data removed]",
      "text/plain": [
       "<Figure size 432x288 with 1 Axes>"
      ]
     },
     "metadata": {
      "needs_background": "light"
     },
     "output_type": "display_data"
    }
   ],
   "source": [
    "data.plot(x='Rank', y='last_update_age',style='rx')"
   ]
  },
  {
   "cell_type": "code",
   "execution_count": null,
   "id": "3eab4357",
   "metadata": {},
   "outputs": [],
   "source": []
  },
  {
   "cell_type": "code",
   "execution_count": null,
   "id": "9b51575c",
   "metadata": {},
   "outputs": [],
   "source": []
  }
 ],
 "metadata": {
  "kernelspec": {
   "display_name": "Python 3 (ipykernel)",
   "language": "python",
   "name": "python3"
  },
  "language_info": {
   "codemirror_mode": {
    "name": "ipython",
    "version": 3
   },
   "file_extension": ".py",
   "mimetype": "text/x-python",
   "name": "python",
   "nbconvert_exporter": "python",
   "pygments_lexer": "ipython3",
   "version": "3.9.7"
  }
 },
 "nbformat": 4,
 "nbformat_minor": 5
}
